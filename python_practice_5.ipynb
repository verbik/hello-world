{
 "nbformat": 4,
 "nbformat_minor": 0,
 "metadata": {
  "colab": {
   "provenance": []
  },
  "kernelspec": {
   "name": "python3",
   "language": "python",
   "display_name": "Python 3 (ipykernel)"
  },
  "language_info": {
   "name": "python"
  }
 },
 "cells": [
  {
   "cell_type": "markdown",
   "source": [
    "# I. OOP"
   ],
   "metadata": {
    "id": "5qV_sehzFCTp"
   }
  },
  {
   "cell_type": "markdown",
   "source": [
    "1. (6б). Створіть клас Animal, додайте три атрибути, один з яких має значення за замовчуванням та два методи на свій розсуд."
   ],
   "metadata": {
    "id": "tx_U_hOALyfg"
   }
  },
  {
   "cell_type": "code",
   "source": [
    "class Animal:\n",
    "    def __init__(self, name: str, species: str, sound: str, age: int=0):\n",
    "        self.name = name\n",
    "        self.age = age\n",
    "        self.species = species\n",
    "        self.sound = sound\n",
    "\n",
    "    def age_up(self):\n",
    "        self.age += 1\n",
    "\n",
    "    def make_sound(self):\n",
    "        return f\"{self.name} says {self.sound}\""
   ],
   "metadata": {
    "id": "-Vf895KaL88N",
    "ExecuteTime": {
     "start_time": "2024-02-29T21:35:06.206542Z",
     "end_time": "2024-02-29T21:35:06.250529Z"
    }
   },
   "execution_count": 3,
   "outputs": []
  },
  {
   "cell_type": "markdown",
   "source": [
    "2. (2б). Створіть два обʼєкти цього класу, де один з обʼєктів створюється із дефолтним значенням атрибуту. На одному обʼєкті отримайте значення його атрибуту, а на іншому викличте один з його методів."
   ],
   "metadata": {
    "id": "X_UlOMB0L93w"
   }
  },
  {
   "cell_type": "code",
   "source": [
    "cat = Animal(\"Katy\", \"cat\", \"meow\")\n",
    "print(f\"{cat.name} is {cat.age} years old.\")\n",
    "dog = Animal(\"Dog\", \"dog\", \"bark\", 1)\n",
    "print(f\"{dog.name} is {dog.age} years old.\")\n",
    "dog.age_up()\n",
    "print(f\"{dog.name} is {dog.age} years old.\")"
   ],
   "metadata": {
    "id": "7gBu0ESOMCpG",
    "ExecuteTime": {
     "start_time": "2024-02-29T21:37:34.929328Z",
     "end_time": "2024-02-29T21:37:35.023263Z"
    }
   },
   "execution_count": 5,
   "outputs": [
    {
     "name": "stdout",
     "output_type": "stream",
     "text": [
      "Katy is 0 years old.\n",
      "Dog is 1 years old.\n",
      "Dog is 2 years old.\n"
     ]
    }
   ]
  },
  {
   "cell_type": "markdown",
   "source": [
    "3. (5б). Створіть клас, де атрибути мають різні рівні доступу. Спробуйте отримати їхні значення та опишіть результати."
   ],
   "metadata": {
    "id": "HoqSCZt1MHn5"
   }
  },
  {
   "cell_type": "code",
   "source": [
    "class Person:\n",
    "    def __init__(self, first_name, last_name, age, phone_number, credit_card):\n",
    "        self.first_name = first_name #public\n",
    "        self.last_name = last_name #public\n",
    "        self.age = age #public\n",
    "        self._phone_number = phone_number #protected\n",
    "        self.__credit_card = credit_card #private\n",
    "\n",
    "\n",
    "person = Person(\"Test\", \"Test\", 10, \"+380000000000\", \"0000_0000_0000_0000\")\n",
    "print(f\"Public variable first_name: {person.first_name}\")\n",
    "print(f\"Protected variable phone_number: {person._phone_number}\")\n",
    "print(f\"Private variable credit_card: {person._Person__credit_card}\")\n",
    "print(f\"Private variable credit_card: {person.__credit_card}\")"
   ],
   "metadata": {
    "id": "r9b3vJxBMSPV",
    "ExecuteTime": {
     "start_time": "2024-02-29T21:42:06.575352Z",
     "end_time": "2024-02-29T21:42:06.637023Z"
    }
   },
   "execution_count": 11,
   "outputs": [
    {
     "name": "stdout",
     "output_type": "stream",
     "text": [
      "Public variable first_name: Test\n",
      "Protected variable phone_number: +380000000000\n",
      "Private variable credit_card: 0000_0000_0000_0000\n"
     ]
    },
    {
     "ename": "AttributeError",
     "evalue": "'Person' object has no attribute '__credit_card'",
     "output_type": "error",
     "traceback": [
      "\u001B[1;31m---------------------------------------------------------------------------\u001B[0m",
      "\u001B[1;31mAttributeError\u001B[0m                            Traceback (most recent call last)",
      "Cell \u001B[1;32mIn[11], line 14\u001B[0m\n\u001B[0;32m     12\u001B[0m \u001B[38;5;28mprint\u001B[39m(\u001B[38;5;124mf\u001B[39m\u001B[38;5;124m\"\u001B[39m\u001B[38;5;124mProtected variable phone_number: \u001B[39m\u001B[38;5;132;01m{\u001B[39;00mperson\u001B[38;5;241m.\u001B[39m_phone_number\u001B[38;5;132;01m}\u001B[39;00m\u001B[38;5;124m\"\u001B[39m)\n\u001B[0;32m     13\u001B[0m \u001B[38;5;28mprint\u001B[39m(\u001B[38;5;124mf\u001B[39m\u001B[38;5;124m\"\u001B[39m\u001B[38;5;124mPrivate variable credit_card: \u001B[39m\u001B[38;5;132;01m{\u001B[39;00mperson\u001B[38;5;241m.\u001B[39m_Person__credit_card\u001B[38;5;132;01m}\u001B[39;00m\u001B[38;5;124m\"\u001B[39m)\n\u001B[1;32m---> 14\u001B[0m \u001B[38;5;28mprint\u001B[39m(\u001B[38;5;124mf\u001B[39m\u001B[38;5;124m\"\u001B[39m\u001B[38;5;124mPrivate variable credit_card: \u001B[39m\u001B[38;5;132;01m{\u001B[39;00mperson\u001B[38;5;241m.\u001B[39m__credit_card\u001B[38;5;132;01m}\u001B[39;00m\u001B[38;5;124m\"\u001B[39m)\n",
      "\u001B[1;31mAttributeError\u001B[0m: 'Person' object has no attribute '__credit_card'"
     ]
    }
   ]
  },
  {
   "cell_type": "markdown",
   "source": [
    "Вдалося отримати змінні публічного та захищеного рівнів доступу. Отримати змінну приватного рівня доступу не вдалося. Отримали AttributeError.\n",
    "\n",
    "Результати очікувані, оскільки доступитися до змінних приватного рівню доступу поза класом не можна(якщо не знати, що можна отримати їх у форматі _class__member)"
   ],
   "metadata": {
    "collapsed": false
   }
  },
  {
   "cell_type": "markdown",
   "source": [
    "4. (7б). Як ви розумієте термін self? Для чого використовується метод __init __?"
   ],
   "metadata": {
    "id": "5op2m2vgMSkZ"
   }
  },
  {
   "cell_type": "markdown",
   "source": [
    "Метод класу \\_\\_init__ - це метод, що викликається при створенні об'єкту даного класу. Тобто спочатку викликається цей метод, а вже потім відбувається усе інше. Цей метод використовується для ініціалізації об'єкту класу.\n",
    "\n",
    "Термін self - це reference, якби посилання, на конкретний об'єкт класу і використовується для того, щоб доступитися до змінних саме цього конкретного класу."
   ],
   "metadata": {
    "id": "DyiPqNRvMasx"
   }
  },
  {
   "cell_type": "markdown",
   "source": [
    "5. (9б). Створіть клас Фігура без атрибутів, з методом get_area для отримання площі фігури, що повертає 0 та __add __, який приймає self та other в якості аргументів, а повертає суму площин фігур self та other."
   ],
   "metadata": {
    "id": "-6X8EGfjMd2y"
   }
  },
  {
   "cell_type": "code",
   "source": [
    "class Фігура:\n",
    "    def get_area(self) -> float:\n",
    "        return 0\n",
    "\n",
    "    def __add__(self, other):\n",
    "        return self.get_area() + other.get_area()"
   ],
   "metadata": {
    "id": "4rvO_wYUMaEr",
    "ExecuteTime": {
     "start_time": "2024-02-29T21:54:10.728139Z",
     "end_time": "2024-02-29T21:54:10.804778Z"
    }
   },
   "execution_count": 12,
   "outputs": []
  },
  {
   "cell_type": "markdown",
   "source": [
    "6. (11б). Створіть 2 дочірніх класи від Фігури: Трикутник та Коло, які мають атрибути, необхідні для розрахунку площин. Визначте метод get_area в кожному з них так, щоби вони розраховували площу в залежності від формули для кожного типу фігури. Створіть обʼєкт класу Трикутник та обʼєкт класу Коло. Виконайте операцію суми за допомогою оператора + між ними."
   ],
   "metadata": {
    "id": "SFcKnnv5Mo_z"
   }
  },
  {
   "cell_type": "code",
   "source": [
    "import math\n",
    "\n",
    "class Triangle(Фігура):\n",
    "    def __init__(self, a, b, c):\n",
    "        self.a = a\n",
    "        self.b = b\n",
    "        self.c = c\n",
    "\n",
    "    def get_area(self) -> float:\n",
    "        p = (self.a + self.b + self.c) / 2\n",
    "        return math.sqrt(p * (p - self.a) * (p - self.b) * (p - self.c))\n",
    "\n",
    "\n",
    "class Circle(Фігура):\n",
    "    def __init__(self, r):\n",
    "        self.r = r\n",
    "\n",
    "    def get_area(self) -> float:\n",
    "        return math.pi * self.r * self.r"
   ],
   "metadata": {
    "id": "H3GVNr69Muf3",
    "ExecuteTime": {
     "start_time": "2024-02-29T22:00:25.402297Z",
     "end_time": "2024-02-29T22:00:25.431239Z"
    }
   },
   "execution_count": 19,
   "outputs": []
  },
  {
   "cell_type": "code",
   "execution_count": 22,
   "outputs": [
    {
     "name": "stdout",
     "output_type": "stream",
     "text": [
      "6.0\n",
      "12.566370614359172\n",
      "18.566370614359172\n"
     ]
    }
   ],
   "source": [
    "triangle = Triangle(3, 4, 5)\n",
    "print(triangle.get_area())\n",
    "\n",
    "circle = Circle(2)\n",
    "print(circle.get_area())\n",
    "\n",
    "print(circle + triangle)"
   ],
   "metadata": {
    "collapsed": false,
    "ExecuteTime": {
     "start_time": "2024-02-29T22:00:47.467854Z",
     "end_time": "2024-02-29T22:00:47.499135Z"
    }
   }
  },
  {
   "cell_type": "markdown",
   "source": [
    "7. (3б). Продемонструйте різницю між isinstance та issubclass."
   ],
   "metadata": {
    "id": "HCvR206YMvLK"
   }
  },
  {
   "cell_type": "code",
   "source": [
    "isinstance(circle, Circle)"
   ],
   "metadata": {
    "id": "L_V1bBvDM0GN",
    "ExecuteTime": {
     "start_time": "2024-02-29T22:01:11.178943Z",
     "end_time": "2024-02-29T22:01:11.265098Z"
    }
   },
   "execution_count": 23,
   "outputs": [
    {
     "data": {
      "text/plain": "True"
     },
     "execution_count": 23,
     "metadata": {},
     "output_type": "execute_result"
    }
   ]
  },
  {
   "cell_type": "code",
   "execution_count": 25,
   "outputs": [
    {
     "data": {
      "text/plain": "True"
     },
     "execution_count": 25,
     "metadata": {},
     "output_type": "execute_result"
    }
   ],
   "source": [
    "issubclass(Circle, Фігура)"
   ],
   "metadata": {
    "collapsed": false,
    "ExecuteTime": {
     "start_time": "2024-02-29T22:01:39.856745Z",
     "end_time": "2024-02-29T22:01:39.903641Z"
    }
   }
  },
  {
   "cell_type": "markdown",
   "source": [
    "Різниця полягає у тому, що isinstance перевіряє чи належить об'єкт до певного класу, а issubclass - чи є певний клас підкласом іншого"
   ],
   "metadata": {
    "collapsed": false
   }
  },
  {
   "cell_type": "markdown",
   "source": [
    "8. (13б). Створіть клас BankAccount з приватними атрибутами balance та account_number. Реалізуйте методи поповнення та зняття коштів, забезпечивши належну інкапсуляцію. Підказка: використовуйте декоратори property та setter."
   ],
   "metadata": {
    "id": "jjsaBZ-iM0Qq"
   }
  },
  {
   "cell_type": "code",
   "source": [
    "class BankAccount:\n",
    "    def __init__(self, balance, account_number):\n",
    "        self._balance = balance\n",
    "        self._account_number = account_number\n",
    "\n",
    "    @property\n",
    "    def balance(self):\n",
    "        return self._balance\n",
    "\n",
    "    @property\n",
    "    def account_number(self):\n",
    "        return self._account_number\n",
    "\n",
    "    @balance.setter\n",
    "    def balance(self, new_balance):\n",
    "        if new_balance >= 0:\n",
    "            self._balance = new_balance\n",
    "        else:\n",
    "            print(\"Error: Balance cannot be negative.\")\n",
    "\n",
    "    def deposit(self, amount):\n",
    "        if amount > 0:\n",
    "            self._balance += amount\n",
    "            print(f\"Deposited {amount} units. New balance: {self._balance}\")\n",
    "        else:\n",
    "            print(\"Error: Deposit amount must be positive.\")\n",
    "\n",
    "    def withdraw(self, amount):\n",
    "        if 0 < amount <= self._balance:\n",
    "            self._balance -= amount\n",
    "            print(f\"Withdrew {amount} units. New balance: {self._balance}\")\n",
    "        else:\n",
    "            print(\"Error: Invalid withdrawal amount.\")\n"
   ],
   "metadata": {
    "id": "xCvZ7lh8M7YA",
    "ExecuteTime": {
     "start_time": "2024-02-29T22:06:49.896900Z",
     "end_time": "2024-02-29T22:06:49.929767Z"
    }
   },
   "execution_count": 26,
   "outputs": []
  },
  {
   "cell_type": "markdown",
   "source": [
    "9. (11б). Створіть клас Library, який містить список об'єктів типу Book. Реалізуйте методи для додавання книги, видалення книги та відображення списку книг."
   ],
   "metadata": {
    "id": "tIzL2SJTM8ft"
   }
  },
  {
   "cell_type": "code",
   "source": [
    "class Book:\n",
    "    def __init__(self, title, author):\n",
    "        self.title = title\n",
    "        self.author = author\n",
    "\n",
    "    def __str__(self):\n",
    "        return f\"\\\"{self.title}\\\" by {self.author}\"\n",
    "\n",
    "class Library:\n",
    "    books = []\n",
    "\n",
    "    def add_book(self, book):\n",
    "        self.books.append(book)\n",
    "        print(f\"Added book {book} to the library!\")\n",
    "\n",
    "    def delete_book(self, book):\n",
    "        try:\n",
    "            self.books.remove(book)\n",
    "            print(f\"Book {book} removed!\")\n",
    "        except ValueError:\n",
    "            print(\"There is no such book in library\")\n",
    "\n",
    "    def display_books(self):\n",
    "        for book in self.books:\n",
    "            print(book)\n",
    "\n",
    "\n",
    "library = Library()\n",
    "book1 = Book(\"Test book 1\", \"Test\")\n",
    "book2 = Book(\"Test book 2\", \"Test\")\n",
    "book3 = Book(\"Test book 3\", \"Test\")\n",
    "\n",
    "library.add_book(book1)\n",
    "library.add_book(book2)\n",
    "library.add_book(book3)\n",
    "\n",
    "library.display_books()\n",
    "\n",
    "library.delete_book(book1)\n",
    "\n",
    "library.display_books()"
   ],
   "metadata": {
    "id": "HWxfJKLtNAUZ",
    "ExecuteTime": {
     "start_time": "2024-02-29T22:16:43.316937Z",
     "end_time": "2024-02-29T22:16:43.350676Z"
    }
   },
   "execution_count": 27,
   "outputs": [
    {
     "name": "stdout",
     "output_type": "stream",
     "text": [
      "Added book \"Test book 1\" by Test to the library!\n",
      "Added book \"Test book 2\" by Test to the library!\n",
      "Added book \"Test book 3\" by Test to the library!\n",
      "\"Test book 1\" by Test\n",
      "\"Test book 2\" by Test\n",
      "\"Test book 3\" by Test\n",
      "Book \"Test book 1\" by Test removed!\n",
      "\"Test book 2\" by Test\n",
      "\"Test book 3\" by Test\n"
     ]
    }
   ]
  },
  {
   "cell_type": "markdown",
   "source": [
    "10. (13б). Створіть клас Person з атрибутами name та age. Створіть ще один клас Employee з такими атрибутами, як department та salary. Створіть клас Manager, який успадковує обидва класи Person та Employee. Продемонструйте використання множинної спадковості, створивши обʼєкт класу Manager та отримавши mro для цього класу."
   ],
   "metadata": {
    "id": "lmV8pAwwNIqu"
   }
  },
  {
   "cell_type": "code",
   "source": [
    "class Person:\n",
    "    def __init__(self, age, name):\n",
    "        self.age = age\n",
    "        self.name = name\n",
    "\n",
    "\n",
    "class Employee:\n",
    "    def __init__(self, department, salary):\n",
    "        self.department = department\n",
    "        self.salary = salary\n",
    "\n",
    "\n",
    "class Manager(Employee, Person):\n",
    "    def __init__(self, age, name, department, salary):\n",
    "        Person.__init__(self, age, name)\n",
    "        Employee.__init__(self, department, salary)\n",
    "\n",
    "\n",
    "manager = Manager(age=20, name=\"Some name\", department=\"some dep\", salary=15)\n",
    "Manager.__mro__"
   ],
   "metadata": {
    "id": "R49grKlWNPeN",
    "ExecuteTime": {
     "start_time": "2024-02-29T22:23:34.391426Z",
     "end_time": "2024-02-29T22:23:34.440180Z"
    }
   },
   "execution_count": 31,
   "outputs": [
    {
     "data": {
      "text/plain": "(__main__.Manager, __main__.Employee, __main__.Person, object)"
     },
     "execution_count": 31,
     "metadata": {},
     "output_type": "execute_result"
    }
   ]
  },
  {
   "cell_type": "markdown",
   "source": [
    "# II. Iterator"
   ],
   "metadata": {
    "id": "dIJyUiNBFG8G"
   }
  },
  {
   "cell_type": "markdown",
   "source": [
    "11. (4б). Визначте рядок(str) з 4ма різними за значенням символами. Створіть ітератор на основі цього рядка. Викличте 5 разів функцію next на ітераторі, 4ри перших з них огорніть у ф-цію print()."
   ],
   "metadata": {
    "id": "13vsm0NyKIzL"
   }
  },
  {
   "cell_type": "code",
   "source": [
    "string = \"abcd\"\n",
    "\n",
    "my_iterator = iter(string)\n",
    "print(next(my_iterator))\n",
    "print(next(my_iterator))\n",
    "print(next(my_iterator))\n",
    "print(next(my_iterator))\n",
    "print(next(my_iterator))"
   ],
   "metadata": {
    "id": "81ntabAkKuz-"
   },
   "execution_count": 34,
   "outputs": [
    {
     "name": "stdout",
     "output_type": "stream",
     "text": [
      "a\n",
      "b\n",
      "c\n",
      "d\n"
     ]
    },
    {
     "ename": "StopIteration",
     "evalue": "",
     "output_type": "error",
     "traceback": [
      "\u001B[1;31m---------------------------------------------------------------------------\u001B[0m",
      "\u001B[1;31mStopIteration\u001B[0m                             Traceback (most recent call last)",
      "Cell \u001B[1;32mIn[34], line 8\u001B[0m\n\u001B[0;32m      6\u001B[0m \u001B[38;5;28mprint\u001B[39m(\u001B[38;5;28mnext\u001B[39m(my_iterator))\n\u001B[0;32m      7\u001B[0m \u001B[38;5;28mprint\u001B[39m(\u001B[38;5;28mnext\u001B[39m(my_iterator))\n\u001B[1;32m----> 8\u001B[0m \u001B[38;5;28mprint\u001B[39m(\u001B[38;5;28;43mnext\u001B[39;49m\u001B[43m(\u001B[49m\u001B[43mmy_iterator\u001B[49m\u001B[43m)\u001B[49m)\n",
      "\u001B[1;31mStopIteration\u001B[0m: "
     ]
    }
   ]
  },
  {
   "cell_type": "markdown",
   "source": [
    "А що якщо викликати цю ж функцію на рядку?"
   ],
   "metadata": {
    "id": "aekWHGXOLRsO"
   }
  },
  {
   "cell_type": "code",
   "source": [
    "next(string)"
   ],
   "metadata": {
    "id": "mxATGsErLV1i"
   },
   "execution_count": 33,
   "outputs": [
    {
     "ename": "TypeError",
     "evalue": "'str' object is not an iterator",
     "output_type": "error",
     "traceback": [
      "\u001B[1;31m---------------------------------------------------------------------------\u001B[0m",
      "\u001B[1;31mTypeError\u001B[0m                                 Traceback (most recent call last)",
      "Cell \u001B[1;32mIn[33], line 1\u001B[0m\n\u001B[1;32m----> 1\u001B[0m \u001B[38;5;28;43mnext\u001B[39;49m\u001B[43m(\u001B[49m\u001B[43mstring\u001B[49m\u001B[43m)\u001B[49m\n",
      "\u001B[1;31mTypeError\u001B[0m: 'str' object is not an iterator"
     ]
    }
   ]
  },
  {
   "cell_type": "markdown",
   "source": [
    " 12. (5б). Опишіть своїми словами в одному реченні, як ви розумієте різницю між ітерабельними обʼєктами та ітераторами (можна на прикладі)."
   ],
   "metadata": {
    "id": "XwtMEopwJ4pH"
   }
  },
  {
   "cell_type": "markdown",
   "source": [
    "Iterable objects - тобто об'єкти, за якими можна ітеруватися. Іншими словами це об'єкти, які складаються з деяких елементів, що почергово можна переглянути. Наприклад, рядок складається з символів і є iterable, натомість число складається лише з одного числа, ми не можемо ітеруватися його символами.\n",
    "\n",
    "Ітератор у свою чергу це об'єкт, який містить зліченну кількість значень. Технічно у пайтон це об'єкт, що складається з методів \\_\\_iter__ та \\_\\_next__.\n",
    "\n",
    "Кожен ітератор є ітерабельним об'єктом, але не кожен ітерабельний об'єкт є ітератором. Ітератор надає послідовні елементи, коли iterable - це просто об'єкт, що складається з цих елементів."
   ],
   "metadata": {
    "id": "-sHrODc3KFn8"
   }
  },
  {
   "cell_type": "markdown",
   "source": [
    "13. (11б). Створіть клас, що має визначений Iterator Protocol та при кожному виклику next повертає літери англійської абетки, поки вони не вичерпаються."
   ],
   "metadata": {
    "id": "E9qJWmNbK8Gl"
   }
  },
  {
   "cell_type": "code",
   "source": [
    "class AlphabetIterator:\n",
    "    def __init__(self):\n",
    "        self.current = ord('a')\n",
    "\n",
    "    def __iter__(self):\n",
    "        return self\n",
    "\n",
    "    def __next__(self):\n",
    "        if self.current <= ord('z'):\n",
    "            letter = chr(self.current)\n",
    "            self.current += 1\n",
    "            return letter\n",
    "        else:\n",
    "            raise StopIteration\n",
    "\n",
    "# Демонстрація роботи\n",
    "alphabet_iterator = AlphabetIterator()\n",
    "\n",
    "\n",
    "for _ in range(27):\n",
    "    print(next(alphabet_iterator))"
   ],
   "metadata": {
    "id": "cqx-g_RsLo6I",
    "ExecuteTime": {
     "start_time": "2024-02-29T23:06:18.917867Z",
     "end_time": "2024-02-29T23:06:18.952215Z"
    }
   },
   "execution_count": 36,
   "outputs": [
    {
     "name": "stdout",
     "output_type": "stream",
     "text": [
      "a\n",
      "b\n",
      "c\n",
      "d\n",
      "e\n",
      "f\n",
      "g\n",
      "h\n",
      "i\n",
      "j\n",
      "k\n",
      "l\n",
      "m\n",
      "n\n",
      "o\n",
      "p\n",
      "q\n",
      "r\n",
      "s\n",
      "t\n",
      "u\n",
      "v\n",
      "w\n",
      "x\n",
      "y\n",
      "z\n"
     ]
    },
    {
     "ename": "StopIteration",
     "evalue": "",
     "output_type": "error",
     "traceback": [
      "\u001B[1;31m---------------------------------------------------------------------------\u001B[0m",
      "\u001B[1;31mStopIteration\u001B[0m                             Traceback (most recent call last)",
      "Cell \u001B[1;32mIn[36], line 21\u001B[0m\n\u001B[0;32m     17\u001B[0m alphabet_iterator \u001B[38;5;241m=\u001B[39m AlphabetIterator()\n\u001B[0;32m     20\u001B[0m \u001B[38;5;28;01mfor\u001B[39;00m _ \u001B[38;5;129;01min\u001B[39;00m \u001B[38;5;28mrange\u001B[39m(\u001B[38;5;241m27\u001B[39m):\n\u001B[1;32m---> 21\u001B[0m     \u001B[38;5;28mprint\u001B[39m(\u001B[38;5;28;43mnext\u001B[39;49m\u001B[43m(\u001B[49m\u001B[43malphabet_iterator\u001B[49m\u001B[43m)\u001B[49m)\n",
      "Cell \u001B[1;32mIn[36], line 14\u001B[0m, in \u001B[0;36mAlphabetIterator.__next__\u001B[1;34m(self)\u001B[0m\n\u001B[0;32m     12\u001B[0m     \u001B[38;5;28;01mreturn\u001B[39;00m letter\n\u001B[0;32m     13\u001B[0m \u001B[38;5;28;01melse\u001B[39;00m:\n\u001B[1;32m---> 14\u001B[0m     \u001B[38;5;28;01mraise\u001B[39;00m \u001B[38;5;167;01mStopIteration\u001B[39;00m\n",
      "\u001B[1;31mStopIteration\u001B[0m: "
     ]
    }
   ]
  },
  {
   "cell_type": "markdown",
   "source": [
    "# Вітаю! Ви велика(ий) молодець, що впоралась(вся). Похваліть себе та побалуйте чимось приємним. Я Вами пишаюся."
   ],
   "metadata": {
    "id": "Z3E3S_s1Fv7-"
   }
  }
 ]
}

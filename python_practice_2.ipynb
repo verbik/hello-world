{
 "nbformat": 4,
 "nbformat_minor": 0,
 "metadata": {
  "colab": {
   "provenance": []
  },
  "kernelspec": {
   "name": "python3",
   "language": "python",
   "display_name": "Python 3 (ipykernel)"
  },
  "language_info": {
   "name": "python"
  }
 },
 "cells": [
  {
   "cell_type": "markdown",
   "source": [
    "# I. Змінні та памʼять."
   ],
   "metadata": {
    "id": "p9wwt0LZzNvn"
   }
  },
  {
   "cell_type": "markdown",
   "source": [
    "1. Створити змінні, що посилаються на два цілих числа, що однакові за значенням, де значення належить проміжку від -5 до 256. Перевірте, чи будуть ці змінні рівні тільки за значенням або ж ще будуть посилатися на один і той самий обʼєкт в памʼяті? Наведіть код та дайте текстову відповідь нижче."
   ],
   "metadata": {
    "id": "HTJrrm95xSV9"
   }
  },
  {
   "cell_type": "code",
   "execution_count": 35,
   "metadata": {
    "id": "TATni2vzayjG",
    "ExecuteTime": {
     "start_time": "2024-02-02T00:32:39.060101Z",
     "end_time": "2024-02-02T00:32:39.085609Z"
    }
   },
   "outputs": [
    {
     "name": "stdout",
     "output_type": "stream",
     "text": [
      "Чи рівні змінні? True\n",
      "Чи посилаються змінні на один і той самий об'єкт у пам'яті? True\n"
     ]
    }
   ],
   "source": [
    "a = 10\n",
    "b = 10\n",
    "\n",
    "print(f\"Чи рівні змінні? {a==b}\")\n",
    "print(f\"Чи посилаються змінні на один і той самий об'єкт у пам'яті? {a is b}\")"
   ]
  },
  {
   "cell_type": "markdown",
   "source": [
    "Змінні посилаються на один і той самий об'єкт у пам'яті, адже інтерпретатор початково створює об'єкти для цілих чисел від -5 до 256. Але загалом, якщо ми створимо змінні, що посилатимуться на інше число, то вони посилатимуться на різні об'єкти у пам'яті."
   ],
   "metadata": {
    "id": "zfRG_o3WbRdg"
   }
  },
  {
   "cell_type": "markdown",
   "source": [
    "2. За допомогою якої функції можна перевірити належність змінної до вказаного типу даних (напр. чи змінна True посилається на значення булевого та цілочисленого типу)?"
   ],
   "metadata": {
    "id": "ISORzt6M3vAt"
   }
  },
  {
   "cell_type": "code",
   "source": [
    "a = 10\n",
    "type(a)"
   ],
   "metadata": {
    "id": "9vL9CFaMbfyo",
    "ExecuteTime": {
     "start_time": "2024-02-02T00:02:16.489967Z",
     "end_time": "2024-02-02T00:02:16.506445Z"
    }
   },
   "execution_count": 3,
   "outputs": [
    {
     "data": {
      "text/plain": "int"
     },
     "execution_count": 3,
     "metadata": {},
     "output_type": "execute_result"
    }
   ]
  },
  {
   "cell_type": "markdown",
   "source": [
    "# II. Цілі числа та числа з рухомою комою"
   ],
   "metadata": {
    "id": "tRxugKAxwYLw"
   }
  },
  {
   "cell_type": "markdown",
   "source": [
    "3. Створити дві змінні, що посилаються на будь-які ціле число та число з рухомою комою та продемонструвати такі арифметичні операції: додавання, віднімання, ділення, множення, ділення без залишку, ділення по модулю, приведення до ступеню. Всі результати операцій вивести на екран."
   ],
   "metadata": {
    "id": "NLHkgd5Gybc8"
   }
  },
  {
   "cell_type": "code",
   "source": [
    "a = 10\n",
    "b = 2.5\n",
    "\n",
    "print(f\"Додавання: {a + b}\")\n",
    "print(f\"Віднімання: {a - b}\")\n",
    "print(f\"Ділення: {a / b}\")\n",
    "print(f\"Множення: {a * b}\")\n",
    "print(f\"Ділення без залишку: {a // b}\")\n",
    "print(f\"Ділення по модулю: {a % b}\")\n",
    "print(f\"Приведення до ступеню: {a ** b}\")"
   ],
   "metadata": {
    "id": "nb8u_3pjb2cA",
    "ExecuteTime": {
     "start_time": "2024-02-02T00:04:11.145117Z",
     "end_time": "2024-02-02T00:04:11.211596Z"
    }
   },
   "execution_count": 5,
   "outputs": [
    {
     "name": "stdout",
     "output_type": "stream",
     "text": [
      "Додавання: 12.5\n",
      "Віднімання: 7.5\n",
      "Ділення: 4.0\n",
      "Множення: 25.0\n",
      "Ділення без залишку: 4.0\n",
      "Ділення по модулю: 0.0\n",
      "Приведення до ступеню: 316.22776601683796\n"
     ]
    }
   ]
  },
  {
   "cell_type": "markdown",
   "source": [
    "4. Використовуючи змінні з вправи 3, продемонструйте механізм явного перетворення типів, де числа з рухомою комою перетворюються на цілі числа. Також визначте змінну, що посилається на значення булевого типу і спробуйте явно привести її до цілого числа."
   ],
   "metadata": {
    "id": "1kBClKgPzZnC"
   }
  },
  {
   "cell_type": "code",
   "source": [
    "c = True\n",
    "d = False\n",
    "\n",
    "print(f\"{b} to integer: {int(b)}\")\n",
    "print(f\"{c} to integer: {int(c)}\")\n",
    "print(f\"{d} to integer: {int(d)}\")"
   ],
   "metadata": {
    "id": "TbqJbkeUcKsD",
    "ExecuteTime": {
     "start_time": "2024-02-02T00:08:09.897856Z",
     "end_time": "2024-02-02T00:08:09.925115Z"
    }
   },
   "execution_count": 6,
   "outputs": [
    {
     "name": "stdout",
     "output_type": "stream",
     "text": [
      "2.5 to integer: 2\n",
      "True to integer: 1\n",
      "False to integer: 0\n"
     ]
    }
   ]
  },
  {
   "cell_type": "markdown",
   "source": [
    "# IІІ. Рядки (String)."
   ],
   "metadata": {
    "id": "EVJ7AflwxrZi"
   }
  },
  {
   "cell_type": "markdown",
   "source": [
    "5. Створити пустий рядок двома різними способами."
   ],
   "metadata": {
    "id": "_s5ECzz9zE61"
   }
  },
  {
   "cell_type": "code",
   "source": [
    "string1 = \"\"\n",
    "string2 = ''"
   ],
   "metadata": {
    "id": "fkZJHu9Scvc-",
    "ExecuteTime": {
     "start_time": "2024-02-02T00:08:36.106453Z",
     "end_time": "2024-02-02T00:08:36.120135Z"
    }
   },
   "execution_count": 7,
   "outputs": []
  },
  {
   "cell_type": "markdown",
   "source": [
    "6. Створити рядок з апострофом. Зробити його сирим. Вивести обидва рядка на екран."
   ],
   "metadata": {
    "id": "4Bdn9J3MzLf_"
   }
  },
  {
   "cell_type": "code",
   "source": [
    "string = '\\''\n",
    "raw_string = r'\\''\n",
    "\n",
    "print(string)\n",
    "print(raw_string)"
   ],
   "metadata": {
    "id": "ivji_hsmc0GH",
    "ExecuteTime": {
     "start_time": "2024-02-02T00:17:00.475478Z",
     "end_time": "2024-02-02T00:17:00.517762Z"
    }
   },
   "execution_count": 12,
   "outputs": [
    {
     "name": "stdout",
     "output_type": "stream",
     "text": [
      "'\n",
      "\\'\n"
     ]
    }
   ]
  },
  {
   "cell_type": "markdown",
   "source": [
    "7. Створити змінну, що буде посилатися на Ваше прізвище латинкою. Створити форматований рядок, який буде мати вигляд \"My surname is ______\", де на місці нижніх підкреслень буде Ваше прізвище зі змінної."
   ],
   "metadata": {
    "id": "bg_d8wM4z8dS"
   }
  },
  {
   "cell_type": "code",
   "source": [
    "surname = \"Verbivska\"\n",
    "print(f\"My surname is {surname}.\")"
   ],
   "metadata": {
    "id": "kuxFgpWndACq",
    "ExecuteTime": {
     "start_time": "2024-02-02T00:18:01.369449Z",
     "end_time": "2024-02-02T00:18:01.387986Z"
    }
   },
   "execution_count": 13,
   "outputs": [
    {
     "name": "stdout",
     "output_type": "stream",
     "text": [
      "My surname is Verbivska.\n"
     ]
    }
   ]
  },
  {
   "cell_type": "markdown",
   "source": [
    "8. Маючи рядок \"My dog is crazy.\" перетворити його на список [\"my\", \"dog\", \"is\", \"crazy\"]"
   ],
   "metadata": {
    "id": "1Nc6RqvQ0hxU"
   }
  },
  {
   "cell_type": "code",
   "source": [
    "sentence = \"My dog is crazy\"\n",
    "words = sentence.lower().split()\n",
    "print(words)"
   ],
   "metadata": {
    "id": "w1Ya4RqedUhw",
    "ExecuteTime": {
     "start_time": "2024-02-02T00:18:46.673359Z",
     "end_time": "2024-02-02T00:18:46.686230Z"
    }
   },
   "execution_count": 15,
   "outputs": [
    {
     "name": "stdout",
     "output_type": "stream",
     "text": [
      "['my', 'dog', 'is', 'crazy']\n"
     ]
    }
   ]
  },
  {
   "cell_type": "markdown",
   "source": [
    "# IV. Робота зі списками."
   ],
   "metadata": {
    "id": "GYVqN9uP1D4n"
   }
  },
  {
   "cell_type": "markdown",
   "source": [
    "9. Створити список двома різними за синтаксисом способами. За допомогою вбудованої функції обчисліть довжину одного з них."
   ],
   "metadata": {
    "id": "7-DeDunw2sO-"
   }
  },
  {
   "cell_type": "code",
   "source": [
    "a = [1, 2, 3, 4, 5]\n",
    "b = list(range(1, 6))\n",
    "\n",
    "print(f\"List {a}, length {len(a)}.\")\n",
    "print(f\"List {b}, length {len(b)}.\")"
   ],
   "metadata": {
    "id": "zxg06Uuxdyoh",
    "ExecuteTime": {
     "start_time": "2024-02-02T00:21:18.319533Z",
     "end_time": "2024-02-02T00:21:18.336331Z"
    }
   },
   "execution_count": 17,
   "outputs": [
    {
     "name": "stdout",
     "output_type": "stream",
     "text": [
      "List [1, 2, 3, 4, 5], length 5.\n",
      "List [1, 2, 3, 4, 5], length 5.\n"
     ]
    }
   ]
  },
  {
   "cell_type": "markdown",
   "source": [
    "10. Створіть два списка та за допомогою спеціального методу додайте другий з них в якості останнього елемента першого."
   ],
   "metadata": {
    "id": "8vmGUTjL22gI"
   }
  },
  {
   "cell_type": "code",
   "source": [
    "c = a + b\n",
    "a.extend(b)\n",
    "\n",
    "print(a)\n",
    "print(c)"
   ],
   "metadata": {
    "id": "uHtjWYw7d7hm",
    "ExecuteTime": {
     "start_time": "2024-02-02T00:23:36.877985Z",
     "end_time": "2024-02-02T00:23:36.901189Z"
    }
   },
   "execution_count": 21,
   "outputs": [
    {
     "name": "stdout",
     "output_type": "stream",
     "text": [
      "[1, 2, 3, 4, 5, 1, 2, 3, 4, 5, 1, 2, 3, 4, 5]\n",
      "[1, 2, 3, 4, 5, 1, 2, 3, 4, 5, 1, 2, 3, 4, 5]\n"
     ]
    }
   ]
  },
  {
   "cell_type": "markdown",
   "source": [
    "11. Створіть список, де елементами цього списку також є списки. Отримай перший елемент з останнього рядка та виведи значення на екран."
   ],
   "metadata": {
    "id": "JC3BkD-67_--"
   }
  },
  {
   "cell_type": "code",
   "source": [
    "a = [list(range(3)) for _ in range(5)]\n",
    "print(a)\n",
    "print(a[-1][0])"
   ],
   "metadata": {
    "id": "Kz2jZHsGeLlz",
    "ExecuteTime": {
     "start_time": "2024-02-02T00:26:49.288912Z",
     "end_time": "2024-02-02T00:26:49.308103Z"
    }
   },
   "execution_count": 26,
   "outputs": [
    {
     "name": "stdout",
     "output_type": "stream",
     "text": [
      "[[0, 1, 2], [0, 1, 2], [0, 1, 2], [0, 1, 2], [0, 1, 2]]\n",
      "0\n"
     ]
    }
   ]
  },
  {
   "cell_type": "markdown",
   "source": [
    "12. Створіть список з десяти елементів різного типу. Отримайте всі елементи, окрім двох перших та двох останніх та збережіть їх в новій змінній."
   ],
   "metadata": {
    "id": "JA47PKTv8zFK"
   }
  },
  {
   "cell_type": "code",
   "source": [
    "lst = [0.5, \"str\", 3, True, \"another_str\", 9, False, 0.33, \"apple\", 12]\n",
    "new_lst = lst[:-2]\n",
    "print(new_lst)"
   ],
   "metadata": {
    "id": "_rHdUR-ueP4-",
    "ExecuteTime": {
     "start_time": "2024-02-02T00:30:46.450238Z",
     "end_time": "2024-02-02T00:30:46.466166Z"
    }
   },
   "execution_count": 31,
   "outputs": [
    {
     "name": "stdout",
     "output_type": "stream",
     "text": [
      "[0.5, 'str', 3, True, 'another_str', 9, False, 0.33]\n"
     ]
    }
   ]
  },
  {
   "cell_type": "markdown",
   "source": [
    "# V. Робота з кортежами."
   ],
   "metadata": {
    "id": "pCjR1dJb1Qbi"
   }
  },
  {
   "cell_type": "markdown",
   "source": [
    "14. Створити кортеж з один елементом."
   ],
   "metadata": {
    "id": "fAZCxAX06R_k"
   }
  },
  {
   "cell_type": "code",
   "source": [
    "a = (1,)"
   ],
   "metadata": {
    "id": "H7d82WkQev3e",
    "ExecuteTime": {
     "start_time": "2024-02-02T00:31:18.500158Z",
     "end_time": "2024-02-02T00:31:18.514714Z"
    }
   },
   "execution_count": 34,
   "outputs": []
  },
  {
   "cell_type": "markdown",
   "source": [
    "15. Порівняйте список та кортеж. Назвіть схожості та відмінності, випадки використання."
   ],
   "metadata": {
    "id": "8LCtYcmI6w1M"
   }
  },
  {
   "cell_type": "markdown",
   "source": [
    "Схожості:\n",
    "- Обидва типи даних є iterable\n",
    "- У обох типів даних присутня індексація елементів\n",
    "- Обидва типи даних використовуються з вбудованими функціями min(), max(), sum(), len().\n",
    "\n",
    "Відмінності:\n",
    "- Tuple є immutable типом даних(елементи не можна змінювати після створення, можна лише створити новий кортеж), а list - mutable(елементи можна змінювати, посилатиметься на той самий об'єкт).\n",
    "- Різний синтаксис"
   ],
   "metadata": {
    "id": "fUsN1Hnue0C6"
   }
  },
  {
   "cell_type": "markdown",
   "source": [
    "16. Створіть кортеж з 11ти елементів чисел з рухомою комою та отримайте кожен парний за індексом елемент в зворотньому порядку. Наприклад, маючи (1.2, 2.3, 3.3, 4.3, 5.3, 6.3, 7.3, 8.3, 9.3, 0.3), отримати (0.3, 8.3, 6.3, 4.3, 2.3). Результат збережіть в нову змінну та виведіть на екран."
   ],
   "metadata": {
    "id": "m0xrwFijAmDD"
   }
  },
  {
   "cell_type": "code",
   "source": [
    "a = (1.2, 2.3, 3.3, 4.3, 5.3, 6.3, 7.3, 8.3, 9.3, 0.3)\n",
    "b = a[::-2]\n",
    "print(b)"
   ],
   "metadata": {
    "id": "p-5DAH6XfAGA",
    "ExecuteTime": {
     "start_time": "2024-02-02T00:53:01.343818Z",
     "end_time": "2024-02-02T00:53:01.356453Z"
    }
   },
   "execution_count": 57,
   "outputs": [
    {
     "name": "stdout",
     "output_type": "stream",
     "text": [
      "(0.3, 8.3, 6.3, 4.3, 2.3)\n"
     ]
    }
   ]
  },
  {
   "cell_type": "markdown",
   "source": [
    "# VI. Множини (Set)."
   ],
   "metadata": {
    "id": "rW_I9dt3x6cW"
   }
  },
  {
   "cell_type": "markdown",
   "source": [
    "17. Створити множину без елементів. Після цого за допомогою методу додайте кілька різних елементів до множини. Чи множини є змінним типом даних?"
   ],
   "metadata": {
    "id": "zNjRLHLw1Bgg"
   }
  },
  {
   "cell_type": "code",
   "source": [
    "a = set()\n",
    "a.add(3)\n",
    "a.add(3)\n",
    "a.add(5)\n",
    "print(a)"
   ],
   "metadata": {
    "id": "KOv7zc2Kfo4N",
    "ExecuteTime": {
     "start_time": "2024-02-02T00:43:33.028975Z",
     "end_time": "2024-02-02T00:43:33.049456Z"
    }
   },
   "execution_count": 52,
   "outputs": [
    {
     "name": "stdout",
     "output_type": "stream",
     "text": [
      "{3, 5}\n"
     ]
    }
   ]
  },
  {
   "cell_type": "markdown",
   "source": [
    "Так, множини є змінним типом даних.\n",
    "Важливо також зазначити, що елементи множини можуть бути лише незмінними типами даних."
   ],
   "metadata": {
    "id": "vxS6dVYiftZQ"
   }
  },
  {
   "cell_type": "markdown",
   "source": [
    "18. Створити множину, маючи список my_list = [1, 1, 2, 67, 67, 8, 9]. Пояснити, чому \"зникли\" деякі елементи."
   ],
   "metadata": {
    "id": "gHpT0Zw_1HEF"
   }
  },
  {
   "cell_type": "code",
   "source": [
    "my_list = [1, 1, 2, 67, 67, 8, 9]\n",
    "my_set = set(my_list)\n",
    "print(my_set)"
   ],
   "metadata": {
    "id": "qCN4uvJ_fxmu",
    "ExecuteTime": {
     "start_time": "2024-02-02T00:44:29.275165Z",
     "end_time": "2024-02-02T00:44:29.337807Z"
    }
   },
   "execution_count": 53,
   "outputs": [
    {
     "name": "stdout",
     "output_type": "stream",
     "text": [
      "{1, 2, 67, 8, 9}\n"
     ]
    }
   ]
  },
  {
   "cell_type": "markdown",
   "source": [
    "Зникли лише елементи, що повторювалися, адже у множини усі елементи мають бути унікальними і не повторюватися."
   ],
   "metadata": {
    "id": "tFNc1e20fyny"
   }
  },
  {
   "cell_type": "markdown",
   "source": [
    "19. Створіть дві множини. Продемонстуйте над ними операції: обʼєднання, різниці, пересічі та симетричної різниці. Використовуйте методи, що не змінюють множини, а створюють нові."
   ],
   "metadata": {
    "id": "SRMkGizS1UwY"
   }
  },
  {
   "cell_type": "code",
   "source": [
    "a = {5, 4, 3, 2, 1}\n",
    "b = {4, 5, 6, 7, 8}\n",
    "\n",
    "print(f\"Об'єднання: {a | b}\") # a.union(b)\n",
    "print(f\"Перетин: {a & b}\") # a.intersection(b)\n",
    "print(f\"Різниця: {a - b}\") # a.difference(b)\n",
    "print(f\"Симетрична різниця: {a ^ b}\") # a.symmetric_difference(b)"
   ],
   "metadata": {
    "id": "h0T-VuDnf3Ri",
    "ExecuteTime": {
     "start_time": "2024-02-02T00:51:58.181420Z",
     "end_time": "2024-02-02T00:51:58.199985Z"
    }
   },
   "execution_count": 56,
   "outputs": [
    {
     "name": "stdout",
     "output_type": "stream",
     "text": [
      "Об'єднання: {1, 2, 3, 4, 5, 6, 7, 8}\n",
      "Перетин: {4, 5}\n",
      "Різниця: {1, 2, 3}\n",
      "Симетрична різниця: {1, 2, 3, 6, 7, 8}\n"
     ]
    }
   ]
  },
  {
   "cell_type": "markdown",
   "source": [
    "# VII. Словники (Dictionary)."
   ],
   "metadata": {
    "id": "kWc8gkzTx7Ea"
   }
  },
  {
   "cell_type": "markdown",
   "source": [
    "20. Створіть пустий словник. До нього додайте чотири пари елементів такі, щоб їхні ключі були різних типів. Чи може список бути ключем? Чому?"
   ],
   "metadata": {
    "id": "i5FLwj-B2ybQ"
   }
  },
  {
   "cell_type": "code",
   "source": [
    "a = {}\n",
    "a[\"key\"] = 15\n",
    "a[4] = \"word\"\n",
    "a[0.5] = True\n",
    "a[True] = 0.4\n",
    "print(a)"
   ],
   "metadata": {
    "id": "hxgv3BzrgLAV",
    "ExecuteTime": {
     "start_time": "2024-02-02T00:56:05.674011Z",
     "end_time": "2024-02-02T00:56:05.693807Z"
    }
   },
   "execution_count": 58,
   "outputs": [
    {
     "name": "stdout",
     "output_type": "stream",
     "text": [
      "{'key': 15, 4: 'word', 0.5: True, True: 0.4}\n"
     ]
    }
   ]
  },
  {
   "cell_type": "markdown",
   "source": [
    "Ключі списку повинні бути хешованими (hashable), тобто такими, що мають фіксований індекс хешу. Оскільки списки можна змінювати, то вони не мають фіксованого індексу хешу, а відповідно не є хешованими і не можуть бути ключами списку."
   ],
   "metadata": {
    "id": "zwa7UVN-gR3m"
   }
  },
  {
   "cell_type": "markdown",
   "source": [
    "21. Створіть словник, де значенням в одній з пар теж буде словник, який теж має вкладений словник. Виведіть на екран значення, що міститься в словнику, що знаходиться на найнижчому рівні ієрархії вкладеності (найбільш внутрішній)."
   ],
   "metadata": {
    "id": "WM_pMlJsgoNf"
   }
  },
  {
   "cell_type": "code",
   "source": [
    "a = {\n",
    "    \"dictionary1\": {\n",
    "        \"dictionary2\": {\n",
    "            \"key\": \"value\"\n",
    "        }\n",
    "    }\n",
    "}\n",
    "\n",
    "print(a[\"dictionary1\"][\"dictionary2\"][\"key\"])"
   ],
   "metadata": {
    "id": "60dlP7IHhAy4",
    "ExecuteTime": {
     "start_time": "2024-02-02T01:01:27.549477Z",
     "end_time": "2024-02-02T01:01:27.563621Z"
    }
   },
   "execution_count": 61,
   "outputs": [
    {
     "name": "stdout",
     "output_type": "stream",
     "text": [
      "value\n"
     ]
    }
   ]
  },
  {
   "cell_type": "markdown",
   "source": [
    "\n",
    "# Вітаю! Ви велика(ий) молодець, що впоралась(вся). Похваліть себе та побалуйте чимось приємним. Я Вами пишаюся."
   ],
   "metadata": {
    "id": "xOZP0hkx6cCr"
   }
  }
 ]
}

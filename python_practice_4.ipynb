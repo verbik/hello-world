{
 "nbformat": 4,
 "nbformat_minor": 0,
 "metadata": {
  "colab": {
   "provenance": []
  },
  "kernelspec": {
   "name": "python3",
   "language": "python",
   "display_name": "Python 3 (ipykernel)"
  },
  "language_info": {
   "name": "python"
  }
 },
 "cells": [
  {
   "cell_type": "markdown",
   "source": [
    "# I. Functions. Arguments."
   ],
   "metadata": {
    "id": "kXpppdVm6wFy"
   }
  },
  {
   "cell_type": "markdown",
   "source": [
    "1. (5б) Назвіть основні 4 смислові  частини, з яких складається функція."
   ],
   "metadata": {
    "id": "u_krJdlbAkVz"
   }
  },
  {
   "cell_type": "markdown",
   "source": [
    "1. Заголовок функції (Function Header):\n",
    "- Ім'я функції\n",
    "- Параметри, які функція приймає\n",
    "2. Тіло функції (Function Body):\n",
    "- блок коду, що визначає, що робить функція\n",
    "3. Документація (Docstring):\n",
    "- не є обов'язковою, рядок, що описує призначення функції, її параметри та що вона повертає\n",
    "4. Return statement:\n",
    "- що функція повертає"
   ],
   "metadata": {
    "id": "KKTrTXmHAptb"
   }
  },
  {
   "cell_type": "markdown",
   "source": [
    "2. (3б) Визначте функцію, що приймає 2 аргументи та повертає результат ділення 1го аргумента на інший."
   ],
   "metadata": {
    "id": "ORM4PqJQAtDM"
   }
  },
  {
   "cell_type": "code",
   "execution_count": 2,
   "metadata": {
    "id": "EuDx-z8M6sLo",
    "ExecuteTime": {
     "start_time": "2024-02-20T12:39:46.624860Z",
     "end_time": "2024-02-20T12:39:46.649095Z"
    }
   },
   "outputs": [],
   "source": [
    "def division(a: int | float, b: int | float) -> int | float:\n",
    "    \"\"\"\n",
    "    Performs division of two numbers: a / b\n",
    "    :param a:  int or float - the numerator\n",
    "    :param b: int or float - the denominator\n",
    "    :return: the result of the division a / b\n",
    "    :raises: ValueError: if the demoninator (b) is zero\n",
    "    \"\"\"\n",
    "    if b == 0:\n",
    "        raise ValueError(\"Division by zero!!!\")\n",
    "    return a / b"
   ]
  },
  {
   "cell_type": "markdown",
   "source": [
    "3. (2б) Викличте вище визначену функцію, де другий аргумент дорівнює 0."
   ],
   "metadata": {
    "id": "5joQGQ-SAyMe"
   }
  },
  {
   "cell_type": "code",
   "source": [
    "division(6, 3)"
   ],
   "metadata": {
    "id": "V5cBV1LOA3d-",
    "ExecuteTime": {
     "start_time": "2024-02-20T12:39:48.520985Z",
     "end_time": "2024-02-20T12:39:48.561875Z"
    }
   },
   "execution_count": 3,
   "outputs": [
    {
     "data": {
      "text/plain": "2.0"
     },
     "execution_count": 3,
     "metadata": {},
     "output_type": "execute_result"
    }
   ]
  },
  {
   "cell_type": "code",
   "execution_count": 4,
   "outputs": [
    {
     "ename": "ValueError",
     "evalue": "Division by zero!!!",
     "output_type": "error",
     "traceback": [
      "\u001B[1;31m---------------------------------------------------------------------------\u001B[0m",
      "\u001B[1;31mValueError\u001B[0m                                Traceback (most recent call last)",
      "Cell \u001B[1;32mIn[4], line 1\u001B[0m\n\u001B[1;32m----> 1\u001B[0m \u001B[43mdivision\u001B[49m\u001B[43m(\u001B[49m\u001B[38;5;241;43m4\u001B[39;49m\u001B[43m,\u001B[49m\u001B[43m \u001B[49m\u001B[38;5;241;43m0\u001B[39;49m\u001B[43m)\u001B[49m\n",
      "Cell \u001B[1;32mIn[2], line 10\u001B[0m, in \u001B[0;36mdivision\u001B[1;34m(a, b)\u001B[0m\n\u001B[0;32m      2\u001B[0m \u001B[38;5;250m\u001B[39m\u001B[38;5;124;03m\"\"\"\u001B[39;00m\n\u001B[0;32m      3\u001B[0m \u001B[38;5;124;03mPerforms division of two numbers: a / b\u001B[39;00m\n\u001B[0;32m      4\u001B[0m \u001B[38;5;124;03m:param a:  int or float - the numerator\u001B[39;00m\n\u001B[1;32m   (...)\u001B[0m\n\u001B[0;32m      7\u001B[0m \u001B[38;5;124;03m:raises: ValueError: if the demoninator (b) is zero\u001B[39;00m\n\u001B[0;32m      8\u001B[0m \u001B[38;5;124;03m\"\"\"\u001B[39;00m\n\u001B[0;32m      9\u001B[0m \u001B[38;5;28;01mif\u001B[39;00m b \u001B[38;5;241m==\u001B[39m \u001B[38;5;241m0\u001B[39m:\n\u001B[1;32m---> 10\u001B[0m     \u001B[38;5;28;01mraise\u001B[39;00m \u001B[38;5;167;01mValueError\u001B[39;00m(\u001B[38;5;124m\"\u001B[39m\u001B[38;5;124mDivision by zero!!!\u001B[39m\u001B[38;5;124m\"\u001B[39m)\n\u001B[0;32m     11\u001B[0m \u001B[38;5;28;01mreturn\u001B[39;00m a \u001B[38;5;241m/\u001B[39m b\n",
      "\u001B[1;31mValueError\u001B[0m: Division by zero!!!"
     ]
    }
   ],
   "source": [
    "division(4, 0)"
   ],
   "metadata": {
    "collapsed": false
   }
  },
  {
   "cell_type": "markdown",
   "source": [
    "4. (4б) Перевизначте функцію так, щоби у випадку ділення на 0 функція повертала None, а в решті випадків - результат розрахунків."
   ],
   "metadata": {
    "id": "QyimWgW8A43-"
   }
  },
  {
   "cell_type": "code",
   "source": [
    "def division(a: int | float, b: int | float) -> None | int | float:\n",
    "    \"\"\"\n",
    "    Performs division of two numbers: a / b\n",
    "    :param a:  int or float - the numerator\n",
    "    :param b: int or float - the denominator\n",
    "    :return: the result of the division a / b or None if b == 0\n",
    "    \"\"\"\n",
    "    if b == 0:\n",
    "        return None\n",
    "    return a / b"
   ],
   "metadata": {
    "id": "7VIODtSjA8Ek",
    "ExecuteTime": {
     "start_time": "2024-02-20T12:40:38.449055Z",
     "end_time": "2024-02-20T12:40:38.468053Z"
    }
   },
   "execution_count": 5,
   "outputs": []
  },
  {
   "cell_type": "code",
   "execution_count": 6,
   "outputs": [],
   "source": [
    "division(3, 0)"
   ],
   "metadata": {
    "collapsed": false,
    "ExecuteTime": {
     "start_time": "2024-02-20T12:40:49.082435Z",
     "end_time": "2024-02-20T12:40:49.102267Z"
    }
   }
  },
  {
   "cell_type": "markdown",
   "source": [
    "5. (5б) Визначте функцію, що віднімає одне число від іншого (підказка: це буде 2 аргументи функції). При чому, якщо не визначити, скільки саме має бути віднято від числа, за замовчуванням має відніматися 1. Викличте функцію, передаючи тільки один аргумент."
   ],
   "metadata": {
    "id": "Y8mN0GfkA81l"
   }
  },
  {
   "cell_type": "code",
   "source": [
    "def subtraction(a: int | float, b: int | float = 1) -> int | float:\n",
    "    return a - b"
   ],
   "metadata": {
    "id": "vg1kxkdgBA50",
    "ExecuteTime": {
     "start_time": "2024-02-20T12:43:38.147319Z",
     "end_time": "2024-02-20T12:43:38.155334Z"
    }
   },
   "execution_count": 8,
   "outputs": []
  },
  {
   "cell_type": "code",
   "execution_count": 9,
   "outputs": [
    {
     "data": {
      "text/plain": "0"
     },
     "execution_count": 9,
     "metadata": {},
     "output_type": "execute_result"
    }
   ],
   "source": [
    "subtraction(1)"
   ],
   "metadata": {
    "collapsed": false,
    "ExecuteTime": {
     "start_time": "2024-02-20T12:43:43.975775Z",
     "end_time": "2024-02-20T12:43:43.987814Z"
    }
   }
  },
  {
   "cell_type": "code",
   "execution_count": 10,
   "outputs": [
    {
     "data": {
      "text/plain": "1"
     },
     "execution_count": 10,
     "metadata": {},
     "output_type": "execute_result"
    }
   ],
   "source": [
    "subtraction(3, 2)"
   ],
   "metadata": {
    "collapsed": false,
    "ExecuteTime": {
     "start_time": "2024-02-20T12:43:51.127917Z",
     "end_time": "2024-02-20T12:43:51.190801Z"
    }
   }
  },
  {
   "cell_type": "markdown",
   "source": [
    "6. (7б) Визначте функцію, яка приймає iterable (ітерабельний обʼєкт, напр. список), що складається з 7ми рядкових значень - назв погодних умов (напр. \"sunny\") за кожен день у тижні. Повертає функція словник, де ключами є рядки з погодними умовами, а значеннями - кількість разів, скільки дана погода була протягом тижня (напр. {'sunny': 1, ...}). Викличте цю функцію та виведіть результат її роботи на екран."
   ],
   "metadata": {
    "id": "D3mwQGNOBBs4"
   }
  },
  {
   "cell_type": "code",
   "source": [
    "from typing import Iterable\n",
    "\n",
    "def function(iterable: Iterable[str]):\n",
    "    \"\"\"\n",
    "    Count the occurence of str elements in iterable\n",
    "\n",
    "    :param iterable: An iterable sequence of elements\n",
    "    :return: A dictionary with elements of iterable as keys and their amount as values\n",
    "    \"\"\"\n",
    "    return {key: iterable.count(key) for key in set(iterable)}\n",
    "\n",
    "function([\"sunny\", \"rainy\", \"sunny\", \"sunny\", \"sunny\", \"cloudy\", \"cloudy\"])"
   ],
   "metadata": {
    "id": "OsWm-hKcBFyn",
    "ExecuteTime": {
     "start_time": "2024-02-20T12:49:54.560198Z",
     "end_time": "2024-02-20T12:49:54.573281Z"
    }
   },
   "execution_count": 16,
   "outputs": [
    {
     "data": {
      "text/plain": "{'cloudy': 2, 'sunny': 4, 'rainy': 1}"
     },
     "execution_count": 16,
     "metadata": {},
     "output_type": "execute_result"
    }
   ]
  },
  {
   "cell_type": "code",
   "execution_count": 17,
   "outputs": [
    {
     "data": {
      "text/plain": "{'sunny': 4, 'rainy': 1, 'cloudy': 2}"
     },
     "execution_count": 17,
     "metadata": {},
     "output_type": "execute_result"
    }
   ],
   "source": [
    "from typing import Iterable\n",
    "from collections import Counter\n",
    "\n",
    "def function(iterable: Iterable[str]):\n",
    "    \"\"\"\n",
    "    Count the occurence of str elements in iterable\n",
    "\n",
    "    :param iterable: An iterable sequence of elements\n",
    "    :return: A dictionary with elements of iterable as keys and their amount as values\n",
    "    \"\"\"\n",
    "    return dict(Counter(iterable))\n",
    "\n",
    "function([\"sunny\", \"rainy\", \"sunny\", \"sunny\", \"sunny\", \"cloudy\", \"cloudy\"])"
   ],
   "metadata": {
    "collapsed": false,
    "ExecuteTime": {
     "start_time": "2024-02-20T12:49:56.288441Z",
     "end_time": "2024-02-20T12:49:56.309493Z"
    }
   }
  },
  {
   "cell_type": "markdown",
   "source": [
    "7. (15б) Напишіть програму, яка б шукала необхідне число у впорядкованому списку цілочислених значень, де\n",
    "число має вводитись з консолі.\n",
    "власне алгоритм пошуку винесений в окрему функцію, яка повертає булеве значення (знайдено число - True, не знайдено - False).\n",
    "в залежності від результату функції, виведіть на екран повідомлення про успішний або ж неуспішний пошук.\n",
    "Зауваження: використовувати оператор in заборонено."
   ],
   "metadata": {
    "id": "RMiCcdOsBKQT"
   }
  },
  {
   "cell_type": "code",
   "source": [
    "from typing import List\n",
    "\n",
    "\n",
    "def binary_search(array: List[int], x: int) -> bool:\n",
    "    \"\"\"\n",
    "    Performs binary search in list of integer values\n",
    "    :param array: list of values\n",
    "    :param x: targer value\n",
    "    :return: True if target in array and False if target is not in array\n",
    "    \"\"\"\n",
    "    left, right = 0, len(array) - 1\n",
    "    array.sort()\n",
    "\n",
    "    while left <= right:\n",
    "        mid = (left + right) // 2\n",
    "        mid_value = array[mid]\n",
    "\n",
    "        if mid_value == x:\n",
    "            return True\n",
    "        elif mid_value < x:\n",
    "            left = mid + 1\n",
    "        else:\n",
    "            right = mid - 1\n",
    "\n",
    "    return False\n",
    "\n",
    "\n",
    "def search_in_array(array: List[int]) -> bool | None:\n",
    "    try:\n",
    "        user_guess = int(input(\"Enter the number to search for: \"))\n",
    "    except ValueError:\n",
    "        print(\"Insert an integer value!\")\n",
    "        return None\n",
    "\n",
    "    return binary_search(array, user_guess)\n",
    "\n",
    "\n",
    "search_in_array([1, 2, 3, 5, 6, 11])"
   ],
   "metadata": {
    "id": "UNCZg65OBOy-",
    "ExecuteTime": {
     "start_time": "2024-02-20T13:05:02.573898Z",
     "end_time": "2024-02-20T13:05:03.889667Z"
    }
   },
   "execution_count": 26,
   "outputs": [
    {
     "data": {
      "text/plain": "True"
     },
     "execution_count": 26,
     "metadata": {},
     "output_type": "execute_result"
    }
   ]
  },
  {
   "cell_type": "markdown",
   "source": [
    "# II. Lambda functions."
   ],
   "metadata": {
    "id": "Ae1n_OvLBTsy"
   }
  },
  {
   "cell_type": "markdown",
   "source": [
    "8. (4б) В яких випадках варто використовувати лямбда-функції?"
   ],
   "metadata": {
    "id": "xaD_wSlaCWen"
   }
  },
  {
   "cell_type": "markdown",
   "source": [
    "Лямбда-функції варто використовувати тоді, коли потрібно створити коротку просту функцію без необхідності прив'язувати її до імені. Наприклад, використовуються, як аргумент до функцій вищого порядку: map(), sorted(), filter() або для простих логістичних перевірок."
   ],
   "metadata": {
    "id": "42MB6OoLCakR"
   }
  },
  {
   "cell_type": "markdown",
   "source": [
    "9. (9б) Визначте список з рядками. Після цього визначте анонімну функцію для отримання першого символу у верхньому регістрі для кожного рядка списку.\n",
    "Підказка: використовуйте анонімну функцію в якості агрумента до вбудованої ф-ції, яка створена для застосування функцій над iterable обʼєктами. Результат виведіть на екран у вигляді кортежу."
   ],
   "metadata": {
    "id": "USrzrk7GCedk"
   }
  },
  {
   "cell_type": "code",
   "source": [
    "lst = [\"String\", \"Apple\", \"orange\", \"cat\"]\n",
    "tuple(map(lambda x: x[0].upper(), lst))"
   ],
   "metadata": {
    "id": "M8QWUsMlCjWH",
    "ExecuteTime": {
     "start_time": "2024-02-20T13:11:03.109782Z",
     "end_time": "2024-02-20T13:11:03.141377Z"
    }
   },
   "execution_count": 32,
   "outputs": [
    {
     "data": {
      "text/plain": "('S', 'A', 'O', 'C')"
     },
     "execution_count": 32,
     "metadata": {},
     "output_type": "execute_result"
    }
   ]
  },
  {
   "cell_type": "markdown",
   "source": [
    "10. (10б) Визначте список з числовими значеннями (і цілими, і з рухомою комою). а) Відфільтруйте всі числа, які діляться націло на 3 за допомогою вбудованої функції та анонімної функції в якості аргумента). Збережіть результат у змінній, не приводяти явно до будь-якого типу. б) Використовуючи результат на кроці 12.а у якості аргументу, та за допомогою лямбда-функції в якості іншого аргументу до вбудованої функції, додайте до кожного елементу число 1 та опісля зведіть у квадрат. Остаточний результат приведіть явно до списку та виведіть на екран."
   ],
   "metadata": {
    "id": "9fyUhXOoCtGp"
   }
  },
  {
   "cell_type": "code",
   "source": [
    "lst = [10.2, 10.3, 4.5, 6.7, 2.1, 1.0, 6.0, 9.0]\n",
    "\n",
    "filtered = filter(lambda x: x % 3 == 0, lst)\n",
    "# [6.0, 9.0] -> [7.0, 10.0] -> [49.0, 100.0]\n",
    "new_lst = map(lambda x: (x + 1) ** 2, filtered)\n",
    "list(new_lst)"
   ],
   "metadata": {
    "id": "exEx2_okCsql",
    "ExecuteTime": {
     "start_time": "2024-02-20T13:16:43.463750Z",
     "end_time": "2024-02-20T13:16:43.484957Z"
    }
   },
   "execution_count": 42,
   "outputs": [
    {
     "data": {
      "text/plain": "[49.0, 100.0]"
     },
     "execution_count": 42,
     "metadata": {},
     "output_type": "execute_result"
    }
   ]
  },
  {
   "cell_type": "markdown",
   "source": [
    "# III. Decorators."
   ],
   "metadata": {
    "id": "o_x8cG_WC7jp"
   }
  },
  {
   "cell_type": "markdown",
   "source": [
    "11. (11б) Визначте декоратор, який би виводив у консоль повідомлення про початок роботи і назву функції (напр. my_function._ _ name _ _), а після відпрацювання функції - повідомлення про закінчення роботи і назву функції, що задекорована."
   ],
   "metadata": {
    "id": "mhxS4-mfC8LQ"
   }
  },
  {
   "cell_type": "code",
   "source": [
    "def test_decorator(func):\n",
    "    def wrapper(*args, **kwargs):\n",
    "        print(\"Starting...\")\n",
    "        print(func.__name__)\n",
    "        result = func(*args, **kwargs)\n",
    "        print(f\"Function {func.__name__} decorated!\")\n",
    "        return result\n",
    "    return wrapper"
   ],
   "metadata": {
    "id": "srd1ygWjDGhO",
    "ExecuteTime": {
     "start_time": "2024-02-20T13:31:01.024525Z",
     "end_time": "2024-02-20T13:31:01.031430Z"
    }
   },
   "execution_count": 64,
   "outputs": []
  },
  {
   "cell_type": "markdown",
   "source": [
    "12. (4б) Задекоруйте двома різними способами функції з завдання 4 та 5 декоратором із завдання 11. (**УВАГА**: не декоруйте функції двічі!)."
   ],
   "metadata": {
    "id": "rxGZwVBiDph3"
   }
  },
  {
   "cell_type": "code",
   "source": [
    "@test_decorator\n",
    "def division(a: int | float, b: int | float) -> None | int | float:\n",
    "    if b == 0:\n",
    "        return None\n",
    "    return a / b"
   ],
   "metadata": {
    "id": "06lj7eq_DwZe",
    "ExecuteTime": {
     "start_time": "2024-02-20T13:31:03.215766Z",
     "end_time": "2024-02-20T13:31:03.230932Z"
    }
   },
   "execution_count": 65,
   "outputs": []
  },
  {
   "cell_type": "code",
   "execution_count": 66,
   "outputs": [
    {
     "name": "stdout",
     "output_type": "stream",
     "text": [
      "Starting...\n",
      "division\n",
      "Function division decorated!\n",
      "1.0\n"
     ]
    }
   ],
   "source": [
    "print(division(1, 1))"
   ],
   "metadata": {
    "collapsed": false,
    "ExecuteTime": {
     "start_time": "2024-02-20T13:31:04.654312Z",
     "end_time": "2024-02-20T13:31:04.671230Z"
    }
   }
  },
  {
   "cell_type": "code",
   "execution_count": 67,
   "outputs": [
    {
     "name": "stdout",
     "output_type": "stream",
     "text": [
      "Starting...\n",
      "subtraction\n",
      "Function subtraction decorated!\n"
     ]
    },
    {
     "data": {
      "text/plain": "-1"
     },
     "execution_count": 67,
     "metadata": {},
     "output_type": "execute_result"
    }
   ],
   "source": [
    "decorated_subtraction = test_decorator(subtraction)\n",
    "decorated_subtraction(1, 2)"
   ],
   "metadata": {
    "collapsed": false,
    "ExecuteTime": {
     "start_time": "2024-02-20T13:31:07.291349Z",
     "end_time": "2024-02-20T13:31:07.313075Z"
    }
   }
  },
  {
   "cell_type": "markdown",
   "source": [
    "13. (2б) Викличте одну з задекорованих функцій і виведіть її результат на екран."
   ],
   "metadata": {
    "id": "P0ep1urBDzf-"
   }
  },
  {
   "cell_type": "code",
   "source": [
    "print(division(1, 1))"
   ],
   "metadata": {
    "id": "1QvTw0ctD0S3",
    "ExecuteTime": {
     "start_time": "2024-02-20T13:31:57.160258Z",
     "end_time": "2024-02-20T13:31:57.169062Z"
    }
   },
   "execution_count": 68,
   "outputs": [
    {
     "name": "stdout",
     "output_type": "stream",
     "text": [
      "Starting...\n",
      "division\n",
      "Function division decorated!\n",
      "1.0\n"
     ]
    }
   ]
  },
  {
   "cell_type": "markdown",
   "source": [
    "# IV. Recursion."
   ],
   "metadata": {
    "id": "poECCpuoD2S9"
   }
  },
  {
   "cell_type": "markdown",
   "source": [
    "14. (4б) Назвіть дві частини функції, які є обовʼязковими для того, щоб називати її рекурсивною."
   ],
   "metadata": {
    "id": "DqkURfdsD7MY"
   }
  },
  {
   "cell_type": "markdown",
   "source": [
    "Base case (базовий випадок) та рекурсивний виклик.\n",
    "\n",
    "Base case - умова, що перевіряється на початковому етапі рекурсивного виклику.\n",
    "\n",
    "Рекурсивний виклик - виклик функцією самої себе"
   ],
   "metadata": {
    "id": "HYW6ttIeIQIU"
   }
  },
  {
   "cell_type": "code",
   "execution_count": 69,
   "outputs": [],
   "source": [
    "def factorial(n):\n",
    "    # Base case\n",
    "    if n == 0 or n == 1:\n",
    "        return 1\n",
    "    # Recursive call\n",
    "    else:\n",
    "        return n * factorial(n - 1)"
   ],
   "metadata": {
    "collapsed": false,
    "ExecuteTime": {
     "start_time": "2024-02-20T13:34:08.571363Z",
     "end_time": "2024-02-20T13:34:08.582969Z"
    }
   }
  },
  {
   "cell_type": "markdown",
   "source": [
    "15. (15б) Визначте функцію, яка рекурсивно реалізовує пошук числа у послідовності Фібоначчі за її індексом (нумерація починається з нуля). Наприклад, потрібно знайти перше число у послідовності, тоді функція прийматиме 0 у якості аргумента і повертатиме 1, якщо ж знаходити третє число (індекс 2) послідовності, то функція повертатиме 2, якщо ж знаходити десяте число (індекс 9), то функція повертатиме 55."
   ],
   "metadata": {
    "id": "WYVt20UmEA35"
   }
  },
  {
   "cell_type": "code",
   "source": [
    "def fibonacci(n: int) -> int:\n",
    "    if n == 0:\n",
    "        return 1\n",
    "    elif n == 1:\n",
    "        return 1\n",
    "    else:\n",
    "        return fibonacci(n - 1) + fibonacci(n - 2)"
   ],
   "metadata": {
    "id": "xIMhp05AIpV_",
    "ExecuteTime": {
     "start_time": "2024-02-20T13:36:53.713339Z",
     "end_time": "2024-02-20T13:36:53.738167Z"
    }
   },
   "execution_count": 70,
   "outputs": []
  },
  {
   "cell_type": "code",
   "execution_count": 71,
   "outputs": [
    {
     "data": {
      "text/plain": "1"
     },
     "execution_count": 71,
     "metadata": {},
     "output_type": "execute_result"
    }
   ],
   "source": [
    "fibonacci(1)"
   ],
   "metadata": {
    "collapsed": false,
    "ExecuteTime": {
     "start_time": "2024-02-20T13:37:02.196993Z",
     "end_time": "2024-02-20T13:37:02.213452Z"
    }
   }
  },
  {
   "cell_type": "code",
   "execution_count": 72,
   "outputs": [
    {
     "data": {
      "text/plain": "1"
     },
     "execution_count": 72,
     "metadata": {},
     "output_type": "execute_result"
    }
   ],
   "source": [
    "fibonacci(0)"
   ],
   "metadata": {
    "collapsed": false,
    "ExecuteTime": {
     "start_time": "2024-02-20T13:37:07.045011Z",
     "end_time": "2024-02-20T13:37:07.092607Z"
    }
   }
  },
  {
   "cell_type": "code",
   "execution_count": 73,
   "outputs": [
    {
     "data": {
      "text/plain": "2"
     },
     "execution_count": 73,
     "metadata": {},
     "output_type": "execute_result"
    }
   ],
   "source": [
    "fibonacci(2)"
   ],
   "metadata": {
    "collapsed": false,
    "ExecuteTime": {
     "start_time": "2024-02-20T13:37:11.022675Z",
     "end_time": "2024-02-20T13:37:11.068975Z"
    }
   }
  },
  {
   "cell_type": "code",
   "execution_count": 75,
   "outputs": [
    {
     "data": {
      "text/plain": "55"
     },
     "execution_count": 75,
     "metadata": {},
     "output_type": "execute_result"
    }
   ],
   "source": [
    "fibonacci(9)"
   ],
   "metadata": {
    "collapsed": false,
    "ExecuteTime": {
     "start_time": "2024-02-20T13:37:20.614924Z",
     "end_time": "2024-02-20T13:37:20.657024Z"
    }
   }
  },
  {
   "cell_type": "markdown",
   "source": [
    "# Вітаю! Ви велика(ий) молодець, що впоралась(вся). Похваліть себе та побалуйте чимось приємним. Я Вами пишаюся."
   ],
   "metadata": {
    "id": "ytXC8n_4Ip0W"
   }
  }
 ]
}

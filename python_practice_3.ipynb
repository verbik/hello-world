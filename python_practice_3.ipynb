{
 "nbformat": 4,
 "nbformat_minor": 0,
 "metadata": {
  "colab": {
   "provenance": []
  },
  "kernelspec": {
   "name": "python3",
   "language": "python",
   "display_name": "Python 3 (ipykernel)"
  },
  "language_info": {
   "name": "python"
  }
 },
 "cells": [
  {
   "cell_type": "markdown",
   "source": [
    "# I. Оператори порівняння та логічні оператори. Умови."
   ],
   "metadata": {
    "id": "qDEi2Pi-4yUC"
   }
  },
  {
   "cell_type": "markdown",
   "source": [
    "1. Створіть цілочисленну змінну зі своїм щасливим або улюбленим числом. Напишіть код, який би автоматизовував наступну задачу.\n",
    "\n",
    "Якщо число парне, помножте його на 2 та виведіть результат на екран.\n",
    "\n",
    "Але якщо число непарне, помножте його на 3 та додайте 1 і виведіть на екран."
   ],
   "metadata": {
    "id": "3v8D4Dkm43Ua"
   }
  },
  {
   "cell_type": "code",
   "execution_count": 3,
   "metadata": {
    "id": "dlVjc-Nu4bmb",
    "ExecuteTime": {
     "start_time": "2024-02-12T20:05:18.278290Z",
     "end_time": "2024-02-12T20:05:18.336350Z"
    }
   },
   "outputs": [
    {
     "name": "stdout",
     "output_type": "stream",
     "text": [
      "Result for number 8: 16\n",
      "Result for number 9: 28\n"
     ]
    }
   ],
   "source": [
    "import random\n",
    "\n",
    "\n",
    "def task(number: int) -> int:\n",
    "    return number * 2 if number % 2 == 0 else number * 3 + 1\n",
    "\n",
    "print(f\"Result for number 8: {task(8)}\")\n",
    "print(f\"Result for number 9: {task(9)}\")"
   ]
  },
  {
   "cell_type": "markdown",
   "source": [
    "2. Створіть змінну, що посилається на список. Якщо список пустий, додайте будь-який елемент у кінець списку. Якщо ж ні, то нічого не робіть."
   ],
   "metadata": {
    "id": "H669P0QK5BI_"
   }
  },
  {
   "cell_type": "code",
   "source": [
    "def task_2(lst: list) -> None:\n",
    "    if len(lst) == 0:\n",
    "        lst.append(1)\n",
    "    print(lst)\n",
    "\n",
    "task_2([])\n",
    "task_2([1, 2])"
   ],
   "metadata": {
    "id": "ecWlfra45f6E",
    "ExecuteTime": {
     "start_time": "2024-02-11T23:02:49.582090Z",
     "end_time": "2024-02-11T23:02:49.600898Z"
    }
   },
   "execution_count": 27,
   "outputs": [
    {
     "name": "stdout",
     "output_type": "stream",
     "text": [
      "[1]\n",
      "[1, 2]\n"
     ]
    }
   ]
  },
  {
   "cell_type": "markdown",
   "source": [
    "3. Створіть рядок зі своїм імʼям латинкою. Напишіть код, який би автоматизовував наступну задачу.\n",
    "\n",
    "Якщо в імені є літера \"а\"\n",
    " або \"i\", Виведіть на екран повідомлення \"A or I is in the name\".\n",
    "\n",
    "\n",
    "\n",
    "Якщо в імені є літери \"o\" та \"n\", Виведіть на екран повідомлення \"O and N is in the name\".\n",
    "\n",
    "Також якщо в імені немає літери \"о\", але є \"n\", Виведіть на екран повідомлення \"Only N is in the name\".\n",
    "\n",
    "В решті випадків виведіть на екран повідомлення \"There is no N in the name, but there might be O\".\n",
    "\n",
    "Зверніть увагу, що, наприклад, для імені \"Antonina\" буде виведено два повідомлення."
   ],
   "metadata": {
    "id": "h9Y3cMUd5h85"
   }
  },
  {
   "cell_type": "code",
   "source": [
    "def task_3(name: str) -> None:\n",
    "    name = name.lower()\n",
    "    if \"a\" in name or \"i\" in name:\n",
    "        print(\"A or I is in the name\")\n",
    "\n",
    "    if \"n\" in name:\n",
    "        if \"o\" in name:\n",
    "            print(\"O and N is in the name\")\n",
    "        else:\n",
    "            print(\"Only N is in the name\")\n",
    "    else:\n",
    "        print(\"There is no N in the name, but there might be O\")\n",
    "\n",
    "\n",
    "print(\"Name: Antonina\")\n",
    "task_3(\"Antonina\")\n",
    "print(\"\\nName: Yulia\")\n",
    "task_3(\"Yulia\")\n",
    "print(\"\\nName: Nana\")\n",
    "task_3(\"Nana\")\n",
    "print(\"\\nName: Theodor\")\n",
    "task_3(\"Theodor\")"
   ],
   "metadata": {
    "id": "bUH4LUx35u52",
    "ExecuteTime": {
     "start_time": "2024-02-11T23:12:34.602397Z",
     "end_time": "2024-02-11T23:12:34.621866Z"
    }
   },
   "execution_count": 44,
   "outputs": [
    {
     "name": "stdout",
     "output_type": "stream",
     "text": [
      "Name: Antonina\n",
      "A or I is in the name\n",
      "O and N is in the name\n",
      "\n",
      "Name: Yulia\n",
      "A or I is in the name\n",
      "There is no N in the name, but there might be O\n",
      "\n",
      "Name: Nana\n",
      "A or I is in the name\n",
      "Only N is in the name\n",
      "\n",
      "Name: Theodor\n",
      "There is no N in the name, but there might be O\n"
     ]
    }
   ]
  },
  {
   "cell_type": "markdown",
   "source": [
    "\"# II. Comprehensions."
   ],
   "metadata": {
    "id": "wPCXJv4354cU"
   }
  },
  {
   "cell_type": "markdown",
   "source": [
    "4. Створіть список, використовуючи if (не if-else), range та comprehension."
   ],
   "metadata": {
    "id": "jULLW5jN55Pw"
   }
  },
  {
   "cell_type": "code",
   "source": [
    "lst = [x for x in range(15) if x % 2 == 0]\n",
    "print(lst)"
   ],
   "metadata": {
    "id": "mlZalnVC6W3F",
    "ExecuteTime": {
     "start_time": "2024-02-11T23:13:20.379878Z",
     "end_time": "2024-02-11T23:13:20.425295Z"
    }
   },
   "execution_count": 45,
   "outputs": [
    {
     "name": "stdout",
     "output_type": "stream",
     "text": [
      "[0, 2, 4, 6, 8, 10, 12, 14]\n"
     ]
    }
   ]
  },
  {
   "cell_type": "markdown",
   "source": [
    "5. Створіть словник, використовуючи dict comprehension, що містить if else. Коли слід використовувати comprehensions, а коли їх слід уникати?"
   ],
   "metadata": {
    "id": "LqhEQ4JW6XcC"
   }
  },
  {
   "cell_type": "code",
   "source": [
    "dictionary = {x: x**2 for x in range(5)}\n",
    "dictionary"
   ],
   "metadata": {
    "id": "1yVaFbOs6hta",
    "ExecuteTime": {
     "start_time": "2024-02-11T23:14:01.127763Z",
     "end_time": "2024-02-11T23:14:01.180732Z"
    }
   },
   "execution_count": 46,
   "outputs": [
    {
     "data": {
      "text/plain": "{0: 0, 1: 1, 2: 4, 3: 9, 4: 16}"
     },
     "execution_count": 46,
     "metadata": {},
     "output_type": "execute_result"
    }
   ]
  },
  {
   "cell_type": "markdown",
   "source": [
    "Використовувати comprehensions зручно і варто, коли ми хочемо створити список на основі виразу за допомогою простих операцій (наприклад, [x**2 for x in range(10)]), або щоб відфільтрувати існуючий список, за простою умовою x for x in range(10) if x % 2 == 0, або ж для трансформації елементів списку.\n",
    "\n",
    "Але якщо компріхенш стає складним або важко читається, то краще використовувати цикли для створення списку. А також, якщо нам просто потрібно мати генератор, а не сам список, то можемо створити саме його за допомогою генераторного виразу."
   ],
   "metadata": {
    "id": "wbkzNhKq6hzz"
   }
  },
  {
   "cell_type": "markdown",
   "source": [
    "6. Створіть список з рядками та запишіть його у змінну. Створіть ще один список на основі попереднього, де кожен рядок буде містити тільки три перших заглавних символи. Наприклад: ['hello', 'i', 'dont', 'care'] -> ['HEL', 'I', 'DON', 'CAR']. Використання comprehensions обовʼязкове."
   ],
   "metadata": {
    "id": "ZlqB8G3G6lHP"
   }
  },
  {
   "cell_type": "code",
   "source": [
    "example = [\"hello\", \"i\", \"don't\", \"care\"]\n",
    "result = [word[:3].upper() for word in example]\n",
    "result"
   ],
   "metadata": {
    "id": "nw6rz0bR60VC",
    "ExecuteTime": {
     "start_time": "2024-02-12T19:45:37.896826Z",
     "end_time": "2024-02-12T19:45:37.908558Z"
    }
   },
   "execution_count": 3,
   "outputs": [
    {
     "data": {
      "text/plain": "['HEL', 'I', 'DON', 'CAR']"
     },
     "execution_count": 3,
     "metadata": {},
     "output_type": "execute_result"
    }
   ]
  },
  {
   "cell_type": "markdown",
   "source": [
    "# III. Цикли."
   ],
   "metadata": {
    "id": "Tj573IAH64Fz"
   }
  },
  {
   "cell_type": "markdown",
   "source": [
    "7. Продемонструйте роботу циклу while. Не можна використовувати True для запуску циклу, щоб уникнути безкінечного циклу!"
   ],
   "metadata": {
    "id": "tN_33xdE65H5"
   }
  },
  {
   "cell_type": "code",
   "source": [
    "a = 0\n",
    "while a != 2:\n",
    "    a += 1\n",
    "\n",
    "print(a)"
   ],
   "metadata": {
    "id": "Kd9FO6yG63P5",
    "ExecuteTime": {
     "start_time": "2024-02-12T19:46:20.336202Z",
     "end_time": "2024-02-12T19:46:20.363108Z"
    }
   },
   "execution_count": 4,
   "outputs": [
    {
     "name": "stdout",
     "output_type": "stream",
     "text": [
      "2\n"
     ]
    }
   ]
  },
  {
   "cell_type": "markdown",
   "source": [
    "8. Напишіть програму, яка виведе на екран непарні числа в діапазоні від 0 до 20 включно."
   ],
   "metadata": {
    "id": "x2CmfZO-7pW0"
   }
  },
  {
   "cell_type": "code",
   "source": [
    "a = 0\n",
    "\n",
    "while a != 20:\n",
    "    if a % 2 == 1:\n",
    "     print(a)\n",
    "    a += 1"
   ],
   "metadata": {
    "id": "aCSRYA6s7tkF",
    "ExecuteTime": {
     "start_time": "2024-02-12T19:47:46.544289Z",
     "end_time": "2024-02-12T19:47:46.557161Z"
    }
   },
   "execution_count": 6,
   "outputs": [
    {
     "name": "stdout",
     "output_type": "stream",
     "text": [
      "1\n",
      "3\n",
      "5\n",
      "7\n",
      "9\n",
      "11\n",
      "13\n",
      "15\n",
      "17\n",
      "19\n"
     ]
    }
   ]
  },
  {
   "cell_type": "code",
   "execution_count": 8,
   "outputs": [
    {
     "name": "stdout",
     "output_type": "stream",
     "text": [
      "1\n",
      "3\n",
      "5\n",
      "7\n",
      "9\n",
      "11\n",
      "13\n",
      "15\n",
      "17\n",
      "19\n"
     ]
    }
   ],
   "source": [
    "for x in range(1, 20, 2):\n",
    "    print(x)"
   ],
   "metadata": {
    "collapsed": false,
    "ExecuteTime": {
     "start_time": "2024-02-12T19:48:53.457736Z",
     "end_time": "2024-02-12T19:48:53.464756Z"
    }
   }
  },
  {
   "cell_type": "markdown",
   "source": [
    "9. Створіть список з елементами булевого типу або None. Використовуючи цикли, отримайте в результаті список з кортежами, де перший елемент кортежу - індекс(ціле число), а другий елемент - відповідне значення з першого списку.\n",
    "\n",
    "Наприклад, [True, True, None, False] -> [(0, True), (1, True), (2, None), (3, False)]"
   ],
   "metadata": {
    "id": "MDWNocZD7t_B"
   }
  },
  {
   "cell_type": "code",
   "source": [
    "lst = [True, True, None, False]\n",
    "result = []\n",
    "\n",
    "for index, value in enumerate(lst):\n",
    "    result.append((index, value))\n",
    "\n",
    "result"
   ],
   "metadata": {
    "id": "0EUyjMdp7yfh",
    "ExecuteTime": {
     "start_time": "2024-02-12T19:49:59.834363Z",
     "end_time": "2024-02-12T19:49:59.844548Z"
    }
   },
   "execution_count": 9,
   "outputs": [
    {
     "data": {
      "text/plain": "[(0, True), (1, True), (2, None), (3, False)]"
     },
     "execution_count": 9,
     "metadata": {},
     "output_type": "execute_result"
    }
   ]
  },
  {
   "cell_type": "markdown",
   "source": [
    "10. Створіть словник, де ключі - назви книжок, а значення - їхня кількість у наявності в Вашій міні-бібліотеці. Бібліотека має містити щонайменше 6 книжок (6 пар значень у словнику) і щонайбільше 10 (пар значень). Використовуючи цикли, оновіть словник (не створюйте новий) так, щоби кількість книг у наявності збільшилося на 5 кожної книги. Наприклад,\n",
    "{'It': 3, 'Fault stars': 10, 'Bible': 17, 'Psychological romance': 4, 'Harry Potter': 13} -> {'It': 8, 'Fault stars': 15, 'Bible': 22, 'Psychological romance': 9, 'Harry Potter': 18}"
   ],
   "metadata": {
    "id": "-6XUqlcG7zKs"
   }
  },
  {
   "cell_type": "code",
   "source": [
    "test_dict = {\n",
    "    \"It\": 3,\n",
    "    \"Fault stars\": 10,\n",
    "    \"Bible\": 17,\n",
    "    \"Joke\": 4,\n",
    "    \"Test book\": 13,\n",
    "    \"The unbearable lightness of being\": 10\n",
    "}\n",
    "\n",
    "{name: amount + 5 for name, amount in test_dict.items()}"
   ],
   "metadata": {
    "id": "Ceoj9wwb791q",
    "ExecuteTime": {
     "start_time": "2024-02-12T19:53:40.596381Z",
     "end_time": "2024-02-12T19:53:40.611951Z"
    }
   },
   "execution_count": 14,
   "outputs": [
    {
     "data": {
      "text/plain": "{'It': 8,\n 'Fault stars': 15,\n 'Bible': 22,\n 'Joke': 9,\n 'Test book': 18,\n 'The unbearable lightness of being': 15}"
     },
     "execution_count": 14,
     "metadata": {},
     "output_type": "execute_result"
    }
   ]
  },
  {
   "cell_type": "markdown",
   "source": [
    "11. Визначте цілочислену змінну n, що належить проміжку від 4 до 10 включно. Використовуючи цикли, виведіть в консоль наступний патерн.\n",
    "\n",
    "\\#\n",
    "\\##\n",
    "\\###\n",
    "\\####\n",
    "\n",
    "... #*n\n"
   ],
   "metadata": {
    "id": "QLzyJM288AC7"
   }
  },
  {
   "cell_type": "code",
   "source": [
    "n = 5\n",
    "\n",
    "for i in range(0, n + 1):\n",
    "    print(\"#\" * i)"
   ],
   "metadata": {
    "id": "KOpng87s8Duz",
    "ExecuteTime": {
     "start_time": "2024-02-12T19:55:39.580870Z",
     "end_time": "2024-02-12T19:55:39.597683Z"
    }
   },
   "execution_count": 20,
   "outputs": [
    {
     "name": "stdout",
     "output_type": "stream",
     "text": [
      "\n",
      "#\n",
      "##\n",
      "###\n",
      "####\n",
      "#####\n"
     ]
    }
   ]
  },
  {
   "cell_type": "markdown",
   "source": [
    "12. Гра \"Нумо вгадай\".\n",
    "Розробіть просту гру, де користувач має вгадати випадкове число від 1 до 100. Для генерації випадкового числа використовуйте функцію random.randint(a, b) (тут a та b включно). Для отримання числа з консолі використовуйте функцію input(), результат якої обовʼязково явно приведіть до типу int.\n",
    "\n",
    "Підказка: використовуйте цикл while та умови if-else, щоб повідомити користувачу піказки (напр. \"Більше\", \"Менше\") поки користувач не вгадає. По завершенню виведіть кількість спроб, які знадобилися для вгадування."
   ],
   "metadata": {
    "id": "_bd-bqAT8EHn"
   }
  },
  {
   "cell_type": "code",
   "source": [
    "number = random.randint(1, 100)\n",
    "game_over = False\n",
    "\n",
    "while not game_over:\n",
    "    answer = input(\"Ваша здогадка?\\n\")\n",
    "    try:\n",
    "        answer = int(answer)\n",
    "    except ValueError:\n",
    "        print(\"Введіть ціле число, будь ласка!\")\n",
    "        continue\n",
    "\n",
    "    if answer == number:\n",
    "        game_over = True\n",
    "        print(f\"Congratulations!!! The number is {number}, you guessed right!\")\n",
    "    elif answer < number:\n",
    "        print(\"Більше\")\n",
    "    else:\n",
    "        print(\"Менше\")"
   ],
   "metadata": {
    "id": "IK9nnxFK8Hkl",
    "ExecuteTime": {
     "start_time": "2024-02-12T20:10:11.249608Z",
     "end_time": "2024-02-12T20:10:49.963307Z"
    }
   },
   "execution_count": 7,
   "outputs": [
    {
     "name": "stdout",
     "output_type": "stream",
     "text": [
      "Більше\n",
      "Більше\n",
      "Більше\n",
      "Більше\n",
      "Більше\n",
      "Більше\n",
      "Більше\n",
      "Більше\n",
      "Більше\n",
      "Введіть ціле число, будь ласка!\n",
      "Введіть ціле число, будь ласка!\n",
      "Введіть ціле число, будь ласка!\n",
      "Введіть ціле число, будь ласка!\n",
      "Більше\n",
      "Більше\n",
      "Більше\n",
      "Більше\n",
      "Більше\n",
      "Більше\n",
      "Більше\n",
      "Більше\n",
      "Більше\n",
      "Більше\n",
      "Більше\n",
      "Більше\n",
      "Більше\n",
      "Більше\n",
      "Congratulations!!! The number is 14, you guessed right!\n"
     ]
    }
   ]
  },
  {
   "cell_type": "markdown",
   "source": [
    "# Вітаю! Ви велика(ий) молодець, що впоралась(вся). Похваліть себе та побалуйте чимось приємним. Я Вами пишаюся."
   ],
   "metadata": {
    "id": "PXoXWb7Z8IGi"
   }
  }
 ]
}
